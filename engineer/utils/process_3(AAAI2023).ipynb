{
 "cells": [
  {
   "cell_type": "markdown",
   "id": "be83e488",
   "metadata": {},
   "source": [
    "### (11) render ours_v2 results"
   ]
  },
  {
   "cell_type": "code",
   "execution_count": 1,
   "id": "29329587",
   "metadata": {},
   "outputs": [
    {
     "name": "stderr",
     "output_type": "stream",
     "text": [
      "100%|██████████| 625/625 [18:19<00:00,  1.76s/it]\n",
      "100%|██████████| 575/575 [18:54<00:00,  1.97s/it]\n",
      "100%|██████████| 684/684 [17:47<00:00,  1.56s/it]\n",
      "100%|██████████| 551/551 [13:56<00:00,  1.52s/it]\n",
      "100%|██████████| 839/839 [20:54<00:00,  1.50s/it]\n"
     ]
    }
   ],
   "source": [
    "# guodegang\n",
    "import cv2, sys, tqdm, os, numpy as np, trimesh\n",
    "sys.path.append(\"../\")\n",
    "from utility import show_img_arr, rotate_verts_y\n",
    "from renderer import render_orthcam\n",
    "from pred_loader_hsdf_ver_512 import load_dispatcher\n",
    "\n",
    "def clahe_L(img):\n",
    "    lab= cv2.cvtColor(img, cv2.COLOR_BGR2LAB) # Converting to LAB channels\n",
    "    l, a, b = cv2.split(lab) # Splitting the LAB channels\n",
    "    clahe = cv2.createCLAHE(clipLimit=2.0, tileGridSize=(5,5)) # Applying CLAHE to L-channel\n",
    "    cl = clahe.apply(l)\n",
    "    limg = cv2.merge((cl,a,b)) # Merge channels\n",
    "    final = cv2.cvtColor(limg, cv2.COLOR_LAB2BGR) # Converting back to RGB channels\n",
    "    return final\n",
    "\n",
    "def normalize_v3(arr):\n",
    "    ''' Normalize a numpy array of 3 component vectors shape=(n,3) '''\n",
    "    lens = np.sqrt(arr[:, 0] ** 2 + arr[:, 1] ** 2 + arr[:, 2] ** 2)\n",
    "    eps = 0.00000001\n",
    "    lens[lens < eps] = eps\n",
    "    arr[:, 0] /= lens\n",
    "    arr[:, 1] /= lens\n",
    "    arr[:, 2] /= lens\n",
    "    return arr\n",
    "\n",
    "def compute_normal(vertices, faces):\n",
    "    # Create a zeroed array with the same type and shape as our vertices i.e., per vertex normal\n",
    "    norm = np.zeros(vertices.shape, dtype=vertices.dtype)\n",
    "    # Create an indexed view into the vertex array using the array of three indices for triangles\n",
    "    tris = vertices[faces]\n",
    "    # Calculate the normal for all the triangles, by taking the cross product of the vectors v1-v0, and v2-v0 in each triangle\n",
    "    n = np.cross(tris[::, 1] - tris[::, 0], tris[::, 2] - tris[::, 0])\n",
    "    # n is now an array of normals per triangle. The length of each normal is dependent the vertices,\n",
    "    # we need to normalize these, so that our next step weights each normal equally.\n",
    "    normalize_v3(n)\n",
    "    # now we have a normalized array of normals, one per triangle, i.e., per triangle normals.\n",
    "    # But instead of one per triangle (i.e., flat shading), we add to each vertex in that triangle,\n",
    "    # the triangles' normal. Multiple triangles would then contribute to every vertex, so we need to normalize again afterwards.\n",
    "    # The cool part, we can actually add the normals through an indexed view of our (zeroed) per vertex normal array\n",
    "    norm[faces[:, 0]] += n\n",
    "    norm[faces[:, 1]] += n\n",
    "    norm[faces[:, 2]] += n\n",
    "    normalize_v3(norm)\n",
    "    \n",
    "    return norm\n",
    "\n",
    "clip_name_list = ['baijia', 'guodegang', 'persuade', 'trump', 'obama']\n",
    "method_name = \"hsdf_merge\"\n",
    "\n",
    "for clip_name in clip_name_list:\n",
    "\n",
    "    fn_list = sorted(os.listdir(\"./clip_%s/norm_frames/\" % clip_name))\n",
    "\n",
    "    with open(\"./clip_%s/fps.txt\" % clip_name, 'r') as f:\n",
    "        fps = float(f.readlines()[0])\n",
    "\n",
    "    size = (512*5, 512)\n",
    "\n",
    "    vidcap = cv2.VideoWriter(\"./clip_%s/result_v2.avi\" % clip_name, cv2.VideoWriter_fourcc('M', 'J', 'P', 'G'), fps, size)\n",
    "\n",
    "    for fn in tqdm.tqdm(fn_list):\n",
    "\n",
    "        norm_frame = cv2.imread(\"./clip_%s/norm_frames/%s\" % (clip_name, fn))\n",
    "\n",
    "        concat_list = [norm_frame]\n",
    "\n",
    "        # read mesh\n",
    "        pred_align_mesh = load_dispatcher[method_name](\"./clip_%s/results_v2/\" % clip_name, fn[:-4], -1)\n",
    "\n",
    "        # rend mesh\n",
    "        depth_img, rend_img = render_orthcam(pred_align_mesh, \n",
    "                                 xy_mag = (1,1), \n",
    "                                 rend_size = (512, 512))\n",
    "        mask = depth_img==0\n",
    "        mask3 = np.stack((mask, )*3).transpose((1, 2, 0))\n",
    "        rend_img = clahe_L(rend_img)\n",
    "\n",
    "        merge_img = norm_frame.copy()\n",
    "        merge_img[mask3==0] = rend_img[mask3==0]\n",
    "        concat_list.append(merge_img)\n",
    "        os.makedirs(\"./clip_%s/rend_imgs_v2/grey_front/\" % clip_name, exist_ok = True)\n",
    "        cv2.imwrite(\"./clip_%s/rend_imgs_v2/grey_front/%s\" % (clip_name, fn), merge_img)\n",
    "\n",
    "        # render normal\n",
    "        norms = compute_normal(pred_align_mesh.vertices, pred_align_mesh.faces)\n",
    "        pred_align_mesh.visual = trimesh.visual.ColorVisuals(mesh = pred_align_mesh, \n",
    "                                                             vertex_colors = (norms[:,[2,1,0]] + 1) / 2)\n",
    "        depth_img, rend_img = render_orthcam(pred_align_mesh, \n",
    "                                 xy_mag = (1,1), \n",
    "                                 rend_size = (512, 512),\n",
    "                                 flat_shading = True)\n",
    "        mask = depth_img==0\n",
    "        mask3 = np.stack((mask, )*3).transpose((1, 2, 0))\n",
    "        \n",
    "        merge_img = norm_frame.copy()\n",
    "        merge_img[mask3==0] = rend_img[:,:,[2,1,0]][mask3==0]\n",
    "        \n",
    "        concat_list.append(merge_img)\n",
    "        os.makedirs(\"./clip_%s/rend_imgs_v2/norm_front/\" % clip_name, exist_ok = True)\n",
    "        cv2.imwrite(\"./clip_%s/rend_imgs_v2/norm_front/%s\" % (clip_name, fn), merge_img)\n",
    "        \n",
    "        pred_align_mesh.vertices = rotate_verts_y(pred_align_mesh.vertices, 60)\n",
    "        \n",
    "        depth_img, norm_img = render_orthcam(pred_align_mesh, \n",
    "                                 xy_mag = (1,1), \n",
    "                                 rend_size = (512, 512),\n",
    "                                 flat_shading = True)\n",
    "        \n",
    "        pred_align_mesh.visual = trimesh.visual.ColorVisuals(mesh = pred_align_mesh)\n",
    "        \n",
    "        depth_img, rend_img = render_orthcam(pred_align_mesh, \n",
    "                                             xy_mag = (1,1), \n",
    "                                             rend_size = (512, 512))\n",
    "        rend_img = clahe_L(rend_img)\n",
    "        mask = depth_img==0\n",
    "        mask3 = np.stack((mask, )*3).transpose((1, 2, 0))\n",
    "        \n",
    "        rend_img[mask3!=0] = 0\n",
    "        norm_img[mask3!=0] = 0\n",
    "        \n",
    "        concat_list.append(rend_img)\n",
    "        concat_list.append(norm_img[:,:,[2,1,0]])\n",
    "        os.makedirs(\"./clip_%s/rend_imgs_v2/grey_rot/\" % clip_name, exist_ok = True)\n",
    "        cv2.imwrite(\"./clip_%s/rend_imgs_v2/grey_rot/%s\" % (clip_name, fn), rend_img)\n",
    "        os.makedirs(\"./clip_%s/rend_imgs_v2/norm_rot/\" % clip_name, exist_ok = True)\n",
    "        cv2.imwrite(\"./clip_%s/rend_imgs_v2/norm_rot/%s\" % (clip_name, fn), norm_img[:,:,[2,1,0]])\n",
    "        \n",
    "        concat_img = np.concatenate(tuple(concat_list), axis = 1)\n",
    "        #show_img_arr(concat_img, bgr_mode=True)\n",
    "\n",
    "        vidcap.write(concat_img)\n",
    "\n",
    "    vidcap.release()"
   ]
  },
  {
   "cell_type": "code",
   "execution_count": null,
   "id": "2a022609",
   "metadata": {},
   "outputs": [],
   "source": []
  },
  {
   "cell_type": "markdown",
   "id": "767ea737",
   "metadata": {},
   "source": [
    "### (12) merge changing and normal v2 (refered to (7))"
   ]
  },
  {
   "cell_type": "code",
   "execution_count": 2,
   "id": "5b2effa5",
   "metadata": {},
   "outputs": [
    {
     "name": "stderr",
     "output_type": "stream",
     "text": [
      "100%|██████████| 625/625 [02:53<00:00,  3.61it/s]\n",
      "100%|██████████| 684/684 [02:51<00:00,  3.99it/s]\n",
      "100%|██████████| 839/839 [02:54<00:00,  4.81it/s]\n"
     ]
    }
   ],
   "source": [
    "# guodegang\n",
    "import cv2, sys, tqdm, os, numpy as np, glob\n",
    "sys.path.append(\"../\")\n",
    "from utility import show_img_arr, rotate_verts_y\n",
    "\n",
    "size = (1920, 1080)\n",
    "change_frame_num = 10\n",
    "maintian_frame_num = 30\n",
    "\n",
    "clip_name_list = ['baijia', 'persuade', 'obama'] #\n",
    "clip_name2idx = {'obama':0, 'baijia':1, 'theresa':2, 'willemijn':3, 'speak':4, 'persuade':5}\n",
    "\n",
    "for clip_name in clip_name_list:\n",
    "    \n",
    "    clip_idx = clip_name2idx[clip_name]\n",
    "    fn_list = glob.glob(\"./clip_%s/norm_frames/*\" % clip_name)\n",
    "    num = len(fn_list)\n",
    "    \n",
    "    if clip_name == \"obama\":\n",
    "        select_frame = 400\n",
    "    elif clip_name == \"baijia\":\n",
    "        select_frame = 150\n",
    "    elif clip_name == \"persuade\":\n",
    "        select_frame = 152\n",
    "    \n",
    "    \n",
    "    with open(\"./clip_%s/fps.txt\" % clip_name, 'r') as f:\n",
    "        fps = float(f.readlines()[0]) \n",
    "    vidcap = cv2.VideoWriter(\"./clip_%s/result_v2_compare_%s_highlight.avi\" % (clip_name, clip_name), cv2.VideoWriter_fourcc('M', 'J', 'P', 'G'), fps, size)\n",
    "    \n",
    "    for frame_idx in tqdm.trange(num):\n",
    "        \n",
    "        frame = cv2.imread(\"./video_compare_bg.jpg\")\n",
    "        \n",
    "        src_img = cv2.imread(\"./clip_%s/norm_frames/%08d.png\" % (clip_name, frame_idx))\n",
    "        \n",
    "        front_ours = cv2.imread(\"./clip_%s/rend_imgs_v2/grey_front/%08d.png\" % (clip_name, frame_idx))\n",
    "        front_deca = cv2.imread(\"./clip_%s/rend_imgs_DECA/grey_front/%d_%08d.png\" % (clip_name, clip_idx, frame_idx))\n",
    "        front_3ddfav2 = cv2.imread(\"./clip_%s/rend_imgs_3DDFA_V2/grey_front/%d_%08d.png\" % (clip_name, clip_idx, frame_idx))\n",
    "        front_prnet = cv2.imread(\"./clip_%s/rend_imgs_PRNet/grey_front/%d_%08d.png\" % (clip_name, clip_idx, frame_idx))\n",
    "        \n",
    "        rot_ours = cv2.imread(\"./clip_%s/rend_imgs_v2/grey_rot/%08d.png\" % (clip_name, frame_idx))\n",
    "        rot_deca = cv2.imread(\"./clip_%s/rend_imgs_DECA/grey_rot/%d_%08d.png\" % (clip_name, clip_idx, frame_idx))\n",
    "        rot_3ddfav2 = cv2.imread(\"./clip_%s/rend_imgs_3DDFA_V2/grey_rot/%d_%08d.png\" % (clip_name, clip_idx, frame_idx))\n",
    "        rot_prnet = cv2.imread(\"./clip_%s/rend_imgs_PRNet/grey_rot/%d_%08d.png\" % (clip_name, clip_idx, frame_idx))\n",
    "        \n",
    "        src_img = cv2.resize(src_img, (360, 360))\n",
    "        front_ours = cv2.resize(front_ours, (360, 360))\n",
    "        front_deca = cv2.resize(front_deca, (360, 360))\n",
    "        front_3ddfav2 = cv2.resize(front_3ddfav2, (360, 360))\n",
    "        front_prnet = cv2.resize(front_prnet, (360, 360))\n",
    "        rot_ours = cv2.resize(rot_ours, (360, 360))\n",
    "        rot_deca = cv2.resize(rot_deca, (360, 360))\n",
    "        rot_3ddfav2 = cv2.resize(rot_3ddfav2, (360, 360))\n",
    "        rot_prnet = cv2.resize(rot_prnet, (360, 360))\n",
    "        \n",
    "        frame[320:320+360, 20:20+360, :] = src_img\n",
    "        frame[80:80+360, 410:410+360, :] = front_ours\n",
    "        frame[80:80+360, 770:770+360, :] = rot_ours\n",
    "        frame[80:80+360, 1170:1170+360, :] = front_deca\n",
    "        frame[80:80+360, 1530:1530+360, :] = rot_deca\n",
    "        \n",
    "        #frame[600:600+360, 20:20+360, :] = front_deca\n",
    "        frame[560:560+360, 400:400+360, :] = front_3ddfav2\n",
    "        frame[560:560+360, 780:780+360, :] = rot_3ddfav2\n",
    "        frame[560:560+360, 1160:1160+360, :] = front_prnet\n",
    "        frame[560:560+360, 1540:1540+360, :] = rot_prnet\n",
    "        \n",
    "        #show_img_arr(frame, bgr_mode = True)\n",
    "        \n",
    "        vidcap.write(frame)\n",
    "        \n",
    "        if frame_idx == select_frame:\n",
    "            for turn_idx in range(2):\n",
    "                for ratio_idx in range(change_frame_num*2+1):\n",
    "                    frame = cv2.imread(\"./video_compare_bg_pause.jpg\")\n",
    "\n",
    "                    src_img = cv2.imread(\"./clip_%s/norm_frames/%08d.png\" % (clip_name, frame_idx))\n",
    "\n",
    "                    front_ours = cv2.imread(\"./clip_%s/rend_imgs_v2/grey_front/%08d.png\" % (clip_name, frame_idx))\n",
    "                    front_deca = cv2.imread(\"./clip_%s/rend_imgs_DECA/grey_front/%d_%08d.png\" % (clip_name, clip_idx, frame_idx))\n",
    "                    front_3ddfav2 = cv2.imread(\"./clip_%s/rend_imgs_3DDFA_V2/grey_front/%d_%08d.png\" % (clip_name, clip_idx, frame_idx))\n",
    "                    front_prnet = cv2.imread(\"./clip_%s/rend_imgs_PRNet/grey_front/%d_%08d.png\" % (clip_name, clip_idx, frame_idx))\n",
    "\n",
    "                    rot_ours = cv2.imread(\"./clip_%s/rend_imgs_v2/grey_rot/%08d.png\" % (clip_name, frame_idx))\n",
    "                    rot_deca = cv2.imread(\"./clip_%s/rend_imgs_DECA/grey_rot/%d_%08d.png\" % (clip_name, clip_idx, frame_idx))\n",
    "                    rot_3ddfav2 = cv2.imread(\"./clip_%s/rend_imgs_3DDFA_V2/grey_rot/%d_%08d.png\" % (clip_name, clip_idx, frame_idx))\n",
    "                    rot_prnet = cv2.imread(\"./clip_%s/rend_imgs_PRNet/grey_rot/%d_%08d.png\" % (clip_name, clip_idx, frame_idx))\n",
    "\n",
    "                    src_img = cv2.resize(src_img, (360, 360))\n",
    "                    front_ours = cv2.resize(front_ours, (360, 360))\n",
    "                    front_deca = cv2.resize(front_deca, (360, 360))\n",
    "                    front_3ddfav2 = cv2.resize(front_3ddfav2, (360, 360))\n",
    "                    front_prnet = cv2.resize(front_prnet, (360, 360))\n",
    "                    rot_ours = cv2.resize(rot_ours, (360, 360))\n",
    "                    rot_deca = cv2.resize(rot_deca, (360, 360))\n",
    "                    rot_3ddfav2 = cv2.resize(rot_3ddfav2, (360, 360))\n",
    "                    rot_prnet = cv2.resize(rot_prnet, (360, 360))\n",
    "\n",
    "                    ratio = float(abs(ratio_idx-change_frame_num))/change_frame_num\n",
    "\n",
    "                    frame[320:320+360, 20:20+360, :] = src_img\n",
    "                    frame[80:80+360, 410:410+360, :] = (front_ours.astype(np.float32)*ratio + src_img.astype(np.float32)*(1-ratio)).astype(np.uint8)\n",
    "                    frame[80:80+360, 770:770+360, :] = rot_ours\n",
    "                    frame[80:80+360, 1170:1170+360, :] = (front_deca.astype(np.float32)*ratio + src_img.astype(np.float32)*(1-ratio)).astype(np.uint8)\n",
    "                    frame[80:80+360, 1530:1530+360, :] = rot_deca\n",
    "\n",
    "                    #frame[600:600+360, 20:20+360, :] = front_deca\n",
    "                    frame[560:560+360, 400:400+360, :] = (front_3ddfav2.astype(np.float32)*ratio + src_img.astype(np.float32)*(1-ratio)).astype(np.uint8)\n",
    "                    frame[560:560+360, 780:780+360, :] = rot_3ddfav2\n",
    "                    frame[560:560+360, 1160:1160+360, :] = (front_prnet.astype(np.float32)*ratio + src_img.astype(np.float32)*(1-ratio)).astype(np.uint8)\n",
    "                    frame[560:560+360, 1540:1540+360, :] = rot_prnet\n",
    "\n",
    "                    #show_img_arr(frame, bgr_mode = True)\n",
    "                    if ratio_idx == 0 and turn_idx == 0:\n",
    "                        for i in range(maintian_frame_num):\n",
    "                            vidcap.write(frame)\n",
    "                #     elif ratio_idx == int(change_frame_num*0.5):\n",
    "                #         for i in range(maintian_frame_num):\n",
    "                #             vidcap.write(frame)\n",
    "                    elif ratio_idx == int(change_frame_num*1.0):\n",
    "                        for i in range(maintian_frame_num):\n",
    "                            vidcap.write(frame)\n",
    "                #     elif ratio_idx == int(change_frame_num*1.5):\n",
    "                #         for i in range(maintian_frame_num):\n",
    "                #             vidcap.write(frame)\n",
    "                    elif ratio_idx == int(change_frame_num*2.0):\n",
    "                        for i in range(maintian_frame_num):\n",
    "                            vidcap.write(frame)\n",
    "                    else:\n",
    "                        vidcap.write(frame)\n",
    "    \n",
    "    vidcap.release()"
   ]
  },
  {
   "cell_type": "code",
   "execution_count": null,
   "id": "00df4c07",
   "metadata": {},
   "outputs": [],
   "source": []
  },
  {
   "cell_type": "markdown",
   "id": "3372a30d",
   "metadata": {},
   "source": [
    "### (13) render other videos (trump, guodegang) v2 (refer to (10))"
   ]
  },
  {
   "cell_type": "code",
   "execution_count": 1,
   "id": "3c3889bd",
   "metadata": {},
   "outputs": [
    {
     "name": "stderr",
     "output_type": "stream",
     "text": [
      "100%|██████████| 551/551 [01:24<00:00,  6.52it/s]\n"
     ]
    }
   ],
   "source": [
    "import cv2, sys, tqdm, os, numpy as np, glob\n",
    "sys.path.append(\"../\")\n",
    "from utility import show_img_arr\n",
    "\n",
    "size = (1920, 1080)\n",
    "\n",
    "clip_name = \"trump\"\n",
    "\n",
    "change_frame_num = 10\n",
    "maintian_frame_num = 30\n",
    "fps = 30\n",
    "\n",
    "vidcap = cv2.VideoWriter(\"./clip_%s/result2_v2_1080p.avi\" % clip_name, cv2.VideoWriter_fourcc('M', 'J', 'P', 'G'), fps, size)\n",
    "\n",
    "num = len(os.listdir(\"./clip_%s/rend_imgs_v2/grey_front/\" % clip_name))\n",
    "\n",
    "for frame_idx in tqdm.trange(num):\n",
    "    #frame = np.zeros((1080, 1920, 3), dtype=np.uint8)\n",
    "    frame = cv2.imread(\"./other_video_bg.jpg\")\n",
    "    \n",
    "    src_img = cv2.imread(\"./clip_%s/norm_frames/%08d.png\" % (clip_name, frame_idx))\n",
    "    grey_front = cv2.imread(\"./clip_%s/rend_imgs_v2/grey_front/%08d.png\" % (clip_name, frame_idx))\n",
    "    norm_front = cv2.imread(\"./clip_%s/rend_imgs_v2/norm_front/%08d.png\" % (clip_name, frame_idx))\n",
    "    grey_rot = cv2.imread(\"./clip_%s/rend_imgs_v2/grey_rot/%08d.png\" % (clip_name, frame_idx))\n",
    "    norm_rot = cv2.imread(\"./clip_%s/rend_imgs_v2/norm_rot/%08d.png\" % (clip_name, frame_idx))\n",
    "    \n",
    "    grey_rot = grey_rot[:,60:-60,:]\n",
    "    norm_rot = norm_rot[:,60:-60,:]\n",
    "    \n",
    "    merge_img = np.concatenate((src_img, grey_front, norm_front, grey_rot, norm_rot), axis = 1)\n",
    "    height = round(float(merge_img.shape[0]) * 1920 / float(merge_img.shape[1]))\n",
    "    merge_img = cv2.resize(merge_img, (1920, height))\n",
    "    \n",
    "    pos_x = round((1080 - height) / 2)\n",
    "    frame[pos_x:pos_x+height,:,:] = merge_img\n",
    "\n",
    "    vidcap.write(frame)\n",
    "vidcap.release()"
   ]
  },
  {
   "cell_type": "code",
   "execution_count": 2,
   "id": "5dd1564e",
   "metadata": {},
   "outputs": [
    {
     "name": "stderr",
     "output_type": "stream",
     "text": [
      "100%|██████████| 575/575 [01:27<00:00,  6.59it/s]\n"
     ]
    }
   ],
   "source": [
    "import cv2, sys, tqdm, os, numpy as np, glob\n",
    "sys.path.append(\"../\")\n",
    "from utility import show_img_arr\n",
    "\n",
    "size = (1920, 1080)\n",
    "\n",
    "clip_name = \"guodegang\"\n",
    "\n",
    "change_frame_num = 10\n",
    "maintian_frame_num = 30\n",
    "fps = 30\n",
    "\n",
    "vidcap = cv2.VideoWriter(\"./clip_%s/result2_v2_1080p.avi\" % clip_name, cv2.VideoWriter_fourcc('M', 'J', 'P', 'G'), fps, size)\n",
    "\n",
    "num = len(os.listdir(\"./clip_%s/rend_imgs_v2/grey_front/\" % clip_name))\n",
    "\n",
    "for frame_idx in tqdm.trange(num):\n",
    "    #frame = np.zeros((1080, 1920, 3), dtype=np.uint8)\n",
    "    frame = cv2.imread(\"./other_video_bg.jpg\")\n",
    "    \n",
    "    src_img = cv2.imread(\"./clip_%s/norm_frames/%08d.png\" % (clip_name, frame_idx))\n",
    "    grey_front = cv2.imread(\"./clip_%s/rend_imgs_v2/grey_front/%08d.png\" % (clip_name, frame_idx))\n",
    "    norm_front = cv2.imread(\"./clip_%s/rend_imgs_v2/norm_front/%08d.png\" % (clip_name, frame_idx))\n",
    "    grey_rot = cv2.imread(\"./clip_%s/rend_imgs_v2/grey_rot/%08d.png\" % (clip_name, frame_idx))\n",
    "    norm_rot = cv2.imread(\"./clip_%s/rend_imgs_v2/norm_rot/%08d.png\" % (clip_name, frame_idx))\n",
    "    \n",
    "    grey_rot = grey_rot[:,60:-60,:]\n",
    "    norm_rot = norm_rot[:,60:-60,:]\n",
    "    \n",
    "    merge_img = np.concatenate((src_img, grey_front, norm_front, grey_rot, norm_rot), axis = 1)\n",
    "    height = round(float(merge_img.shape[0]) * 1920 / float(merge_img.shape[1]))\n",
    "    merge_img = cv2.resize(merge_img, (1920, height))\n",
    "    \n",
    "    pos_x = round((1080 - height) / 2)\n",
    "    frame[pos_x:pos_x+height,:,:] = merge_img\n",
    "\n",
    "    vidcap.write(frame)\n",
    "vidcap.release()"
   ]
  },
  {
   "cell_type": "code",
   "execution_count": null,
   "id": "006c1953",
   "metadata": {},
   "outputs": [],
   "source": []
  },
  {
   "cell_type": "markdown",
   "id": "7b8e5636",
   "metadata": {},
   "source": [
    "### (14) make a input_img array for comparison in the last part of video"
   ]
  },
  {
   "cell_type": "code",
   "execution_count": 5,
   "id": "47609706",
   "metadata": {},
   "outputs": [],
   "source": [
    "import numpy as np, cv2, os\n",
    "\n",
    "fn_list = os.listdir(\"../qual_eva_wild/input_img_array/\")\n",
    "fn_list = [fn for fn in fn_list if fn[-8:]!=\"_arr.npy\"]\n",
    "\n",
    "for fn in fn_list:\n",
    "    src_img = cv2.imread(\"../qual_eva_wild/input_img_array/\" + fn)\n",
    "    src_img = cv2.resize(src_img, (256, 256))\n",
    "    img_arr = np.concatenate((src_img, )*12, axis = 1)\n",
    "    cv2.imwrite(\"../qual_eva_wild/input_img_array/%s_arr.png\" % fn[:-4], img_arr)"
   ]
  },
  {
   "cell_type": "code",
   "execution_count": null,
   "id": "b0ef3742",
   "metadata": {},
   "outputs": [],
   "source": []
  },
  {
   "cell_type": "code",
   "execution_count": null,
   "id": "5530be5d",
   "metadata": {},
   "outputs": [],
   "source": []
  },
  {
   "cell_type": "code",
   "execution_count": null,
   "id": "a85e58cf",
   "metadata": {},
   "outputs": [],
   "source": []
  },
  {
   "cell_type": "code",
   "execution_count": null,
   "id": "74fa8a91",
   "metadata": {},
   "outputs": [],
   "source": []
  },
  {
   "cell_type": "markdown",
   "id": "b6282824",
   "metadata": {},
   "source": [
    "### (15) when rearranging code, remake video\n",
    "after acceptance"
   ]
  },
  {
   "cell_type": "code",
   "execution_count": 3,
   "id": "d006408c",
   "metadata": {},
   "outputs": [
    {
     "name": "stderr",
     "output_type": "stream",
     "text": [
      "100%|██████████| 625/625 [00:06<00:00, 96.09it/s] \n"
     ]
    }
   ],
   "source": [
    "# baijia\n",
    "import cv2, glob, tqdm\n",
    "\n",
    "fps = 25\n",
    "fn_list = glob.glob(\"/media/hao/Document/Code/3dface_pred/hsdf_pred_test/video_wild/clip_baijia/norm_frames/*.png\")\n",
    "fn_list = sorted(fn_list)\n",
    "\n",
    "fourcc = cv2.VideoWriter_fourcc(*'XVID')\n",
    "out = cv2.VideoWriter(\"/media/hao/Document/Code/3dface_pred/hsdf_pred_test/video_wild/clip_baijia/norm_video.avi\", fourcc, fps, (512, 512), True)\n",
    "\n",
    "for fn in tqdm.tqdm(fn_list):\n",
    "    frame = cv2.imread(fn)\n",
    "    out.write(frame)\n",
    "\n",
    "out.release()"
   ]
  },
  {
   "cell_type": "code",
   "execution_count": 4,
   "id": "32c7b17c",
   "metadata": {},
   "outputs": [
    {
     "name": "stderr",
     "output_type": "stream",
     "text": [
      "100%|██████████| 575/575 [00:08<00:00, 69.26it/s]\n"
     ]
    }
   ],
   "source": [
    "# guodegang\n",
    "import cv2, glob, tqdm\n",
    "\n",
    "fps = 25\n",
    "fn_list = glob.glob(\"/media/hao/Document/Code/3dface_pred/hsdf_pred_test/video_wild/clip_guodegang/norm_frames/*.png\")\n",
    "fn_list = sorted(fn_list)\n",
    "\n",
    "fourcc = cv2.VideoWriter_fourcc(*'XVID')\n",
    "out = cv2.VideoWriter(\"/media/hao/Document/Code/3dface_pred/hsdf_pred_test/video_wild/clip_guodegang/norm_video.avi\", fourcc, fps, (512, 512), True)\n",
    "\n",
    "for fn in tqdm.tqdm(fn_list):\n",
    "    frame = cv2.imread(fn)\n",
    "    out.write(frame)\n",
    "\n",
    "out.release()"
   ]
  },
  {
   "cell_type": "code",
   "execution_count": 5,
   "id": "cae8a7dd",
   "metadata": {},
   "outputs": [
    {
     "name": "stderr",
     "output_type": "stream",
     "text": [
      "100%|██████████| 839/839 [00:07<00:00, 110.53it/s]\n"
     ]
    }
   ],
   "source": [
    "# obama\n",
    "import cv2, glob, tqdm\n",
    "\n",
    "fps = 29.970030\n",
    "fn_list = glob.glob(\"/media/hao/Document/Code/3dface_pred/hsdf_pred_test/video_wild/clip_obama/norm_frames/*.png\")\n",
    "fn_list = sorted(fn_list)\n",
    "\n",
    "fourcc = cv2.VideoWriter_fourcc(*'XVID')\n",
    "out = cv2.VideoWriter(\"/media/hao/Document/Code/3dface_pred/hsdf_pred_test/video_wild/clip_obama/norm_video.avi\", fourcc, fps, (512, 512), True)\n",
    "\n",
    "for fn in tqdm.tqdm(fn_list):\n",
    "    frame = cv2.imread(fn)\n",
    "    out.write(frame)\n",
    "\n",
    "out.release()"
   ]
  },
  {
   "cell_type": "code",
   "execution_count": 6,
   "id": "d6755911",
   "metadata": {},
   "outputs": [
    {
     "name": "stderr",
     "output_type": "stream",
     "text": [
      "100%|██████████| 551/551 [00:10<00:00, 54.41it/s]\n"
     ]
    }
   ],
   "source": [
    "# Trump\n",
    "import cv2, glob, tqdm\n",
    "\n",
    "fps = 23.976024\n",
    "fn_list = glob.glob(\"/media/hao/Document/Code/3dface_pred/hsdf_pred_test/video_wild/clip_trump/norm_frames/*.png\")\n",
    "fn_list = sorted(fn_list)\n",
    "\n",
    "fourcc = cv2.VideoWriter_fourcc(*'XVID')\n",
    "out = cv2.VideoWriter(\"/media/hao/Document/Code/3dface_pred/hsdf_pred_test/video_wild/clip_trump/norm_video.avi\", fourcc, fps, (512, 512), True)\n",
    "\n",
    "for fn in tqdm.tqdm(fn_list):\n",
    "    frame = cv2.imread(fn)\n",
    "    out.write(frame)\n",
    "\n",
    "out.release()"
   ]
  },
  {
   "cell_type": "code",
   "execution_count": 7,
   "id": "5711303d",
   "metadata": {},
   "outputs": [
    {
     "name": "stderr",
     "output_type": "stream",
     "text": [
      "100%|██████████| 684/684 [00:11<00:00, 59.27it/s]\n"
     ]
    }
   ],
   "source": [
    "# Persuade\n",
    "import cv2, glob, tqdm\n",
    "\n",
    "fps = 29.758001\n",
    "fn_list = glob.glob(\"/media/hao/Document/Code/3dface_pred/hsdf_pred_test/video_wild/clip_persuade/norm_frames/*.png\")\n",
    "fn_list = sorted(fn_list)\n",
    "\n",
    "fourcc = cv2.VideoWriter_fourcc(*'XVID')\n",
    "out = cv2.VideoWriter(\"/media/hao/Document/Code/3dface_pred/hsdf_pred_test/video_wild/clip_persuade/norm_video.avi\", fourcc, fps, (512, 512), True)\n",
    "\n",
    "for fn in tqdm.tqdm(fn_list):\n",
    "    frame = cv2.imread(fn)\n",
    "    out.write(frame)\n",
    "\n",
    "out.release()"
   ]
  },
  {
   "cell_type": "code",
   "execution_count": null,
   "id": "cf9d631f",
   "metadata": {},
   "outputs": [],
   "source": []
  },
  {
   "cell_type": "code",
   "execution_count": 9,
   "id": "530f6e61",
   "metadata": {},
   "outputs": [
    {
     "data": {
      "text/plain": [
       "False"
      ]
     },
     "execution_count": 9,
     "metadata": {},
     "output_type": "execute_result"
    }
   ],
   "source": [
    "(512, 512) == (52, 512)"
   ]
  },
  {
   "cell_type": "code",
   "execution_count": null,
   "id": "241a97db",
   "metadata": {},
   "outputs": [],
   "source": []
  }
 ],
 "metadata": {
  "kernelspec": {
   "display_name": "Python [conda env:3dface_pred] *",
   "language": "python",
   "name": "conda-env-3dface_pred-py"
  },
  "language_info": {
   "codemirror_mode": {
    "name": "ipython",
    "version": 3
   },
   "file_extension": ".py",
   "mimetype": "text/x-python",
   "name": "python",
   "nbconvert_exporter": "python",
   "pygments_lexer": "ipython3",
   "version": "3.6.13"
  }
 },
 "nbformat": 4,
 "nbformat_minor": 5
}
